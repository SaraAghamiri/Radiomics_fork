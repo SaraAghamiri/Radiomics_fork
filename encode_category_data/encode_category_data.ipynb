{
 "cells": [
  {
   "cell_type": "markdown",
   "metadata": {},
   "source": [
    "### Encode category data.\n",
    "\n",
    "- For the the specified columns, drop the rows with nan values;\n",
    "- Encode the category data by label-encoder;\n",
    "- Rename the columns for easy reference;"
   ]
  },
  {
   "cell_type": "code",
   "execution_count": null,
   "metadata": {},
   "outputs": [],
   "source": [
    "import pandas as pd\n",
    "\n",
    "from mySettings import get_category_data_encoder_setting_dict"
   ]
  },
  {
   "cell_type": "code",
   "execution_count": null,
   "metadata": {},
   "outputs": [],
   "source": [
    "def encode_category_data(data, category_column_list):\n",
    "    \"\"\"\n",
    "    Encode the category data by label-encoder.\n",
    "    \"\"\"\n",
    "    dummy = pd.get_dummies(data[category_column_list], drop_first=False)\n",
    "    data= pd.concat([data, dummy], axis=1)\n",
    "    \n",
    "    return data\n",
    "\n",
    "def main_encode_category_data(category_data_encoder_setting):\n",
    "    \"\"\"\n",
    "    1) For the the specified columns, drop the rows with nan values;\n",
    "    2) Encode the category data by label-encoder;\n",
    "    3) Rename the columns for easy reference;\n",
    "    \"\"\"\n",
    "    # read the path\n",
    "    original_data_excel=category_data_encoder_setting[\"original_data_excel\"]\n",
    "    save_encoded_data_excel_path=category_data_encoder_setting[\"save_encoded_data_excel_path\"]\n",
    "    category_column_list=category_data_encoder_setting[\"category_column_list\"]\n",
    "    drop_nan_column_list=category_data_encoder_setting[\"drop_nan_column_list\"]\n",
    "    column_rename_dict=category_data_encoder_setting[\"column_rename_dict\"]\n",
    "\n",
    "    # read the data;\n",
    "    original_data=pd.read_excel(original_data_excel, index_col=0)\n",
    "    print(\"\\n====Before processing: data.shape={}==== \\n{}.\".format(original_data.shape, original_data.head()))\n",
    "\n",
    "    # delete the nan values for these columns\n",
    "    if isinstance(drop_nan_column_list, list):\n",
    "        original_data.dropna(subset=drop_nan_column_list, inplace=True)\n",
    "\n",
    "    # Encode the category data using label-encoder; rename some columns.\n",
    "    original_data.fillna(value=\"unknown\", inplace=True)\n",
    "    encoded_data=encode_category_data(original_data, category_column_list)\n",
    "    encoded_data=encoded_data.rename(columns=column_rename_dict)\n",
    "\n",
    "    ## save the data\n",
    "    encoded_data.to_excel(save_encoded_data_excel_path)\n",
    "    print(\"\\n====After processing: data.shape={}===== \\n{}.\".format(encoded_data.shape, encoded_data.head()))\n"
   ]
  },
  {
   "cell_type": "markdown",
   "metadata": {},
   "source": [
    "### Main"
   ]
  },
  {
   "cell_type": "code",
   "execution_count": null,
   "metadata": {
    "scrolled": false
   },
   "outputs": [],
   "source": [
    "category_data_encoder_setting_dict=get_category_data_encoder_setting_dict()\n",
    "for task_name, category_data_encoder_setting in category_data_encoder_setting_dict.items():\n",
    "    print(\"\\n===== Encode category data for {}. ======\".format(task_name))\n",
    "    main_encode_category_data(category_data_encoder_setting)\n"
   ]
  }
 ],
 "metadata": {
  "kernelspec": {
   "display_name": "Python 3",
   "language": "python",
   "name": "python3"
  },
  "language_info": {
   "codemirror_mode": {
    "name": "ipython",
    "version": 3
   },
   "file_extension": ".py",
   "mimetype": "text/x-python",
   "name": "python",
   "nbconvert_exporter": "python",
   "pygments_lexer": "ipython3",
   "version": "3.7.9"
  }
 },
 "nbformat": 4,
 "nbformat_minor": 4
}
