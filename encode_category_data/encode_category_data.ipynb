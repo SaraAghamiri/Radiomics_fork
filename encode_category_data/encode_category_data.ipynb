{
 "cells": [
  {
   "cell_type": "markdown",
   "metadata": {},
   "source": [
    "### Task 1: Encode category data.\n",
    "\n",
    "- For the the specified columns, drop the rows with nan values;\n",
    "- Encode the category data by label-encoder;\n",
    "- Rename the columns for easy reference;"
   ]
  },
  {
   "cell_type": "code",
   "execution_count": null,
   "metadata": {},
   "outputs": [],
   "source": [
    "import pandas as pd\n",
    "\n",
    "from mySettings import get_category_data_encoder_setting_dict"
   ]
  },
  {
   "cell_type": "code",
   "execution_count": null,
   "metadata": {},
   "outputs": [],
   "source": [
    "def encode_category_data(data, category_column_list):\n",
    "    \"\"\"\n",
    "    Encode the category data by label-encoder.\n",
    "    \"\"\"\n",
    "    dummy = pd.get_dummies(data[category_column_list], drop_first=False)\n",
    "    data= pd.concat([data, dummy], axis=1)\n",
    "    \n",
    "    return data\n",
    "\n",
    "def count_null_values(data_df):\n",
    "    \"\"\"\n",
    "    Count the null values for the columns;\n",
    "    \"\"\"\n",
    "    \n",
    "    data_df_isnull=data_df.isnull()\n",
    "    count_isnull=data_df_isnull.sum()\n",
    "    count_hasNull=count_isnull[count_isnull>0]\n",
    "    print(\"\\n Among the {} features, there are {} features have null values, that is, \\n - {}\".format(data_df.shape[1], len(count_hasNull.keys()), count_hasNull))\n",
    "    \n",
    "def main_encode_category_data(category_data_encoder_setting):\n",
    "    \"\"\"\n",
    "    1) For the the specified columns, drop the rows with nan values;\n",
    "    2) Encode the category data by label-encoder;\n",
    "    3) Rename the columns for easy reference;\n",
    "    \"\"\"\n",
    "    # read the path\n",
    "    original_data_excel=category_data_encoder_setting[\"original_data_excel\"]\n",
    "    save_encoded_data_excel_path=category_data_encoder_setting[\"save_encoded_data_excel_path\"]\n",
    "    drop_patient_id_list=category_data_encoder_setting[\"drop_patient_id_list\"]\n",
    "    category_column_list=category_data_encoder_setting[\"category_column_list\"]\n",
    "    drop_nan_column_list=category_data_encoder_setting[\"drop_nan_column_list\"]\n",
    "    column_rename_dict=category_data_encoder_setting[\"column_rename_dict\"]\n",
    "\n",
    "    # read the data;\n",
    "    original_data=pd.read_excel(original_data_excel, index_col=0)\n",
    "    print(\"\\n- Before processing: data.shape={}.\".format(original_data.shape))\n",
    "\n",
    "    # drop some the specific patients,like the patients with bad image quality in TCGA data;\n",
    "    if isinstance(drop_patient_id_list, list):\n",
    "        original_data.drop(drop_patient_id_list, axis=0, inplace=True)\n",
    "        print(\"After droping data of {}, data.shape={}\".format(drop_patient_id_list, original_data.shape))\n",
    "        \n",
    "    # count the null values\n",
    "    count_null_values(original_data)\n",
    "    \n",
    "    # delete the nan values for these columns\n",
    "    if isinstance(drop_nan_column_list, list):\n",
    "        print(\"\\n Droping null values of these columns {}...\".format(drop_nan_column_list))\n",
    "        original_data.dropna(subset=drop_nan_column_list, inplace=True)\n",
    "        count_null_values(original_data)\n",
    "\n",
    "    # Encode the category data using label-encoder; rename some columns.\n",
    "    original_data.fillna(value=\"unknown\", inplace=True)\n",
    "    encoded_data=encode_category_data(original_data, category_column_list)\n",
    "    encoded_data=encoded_data.rename(columns=column_rename_dict)\n",
    "\n",
    "    ## save the data\n",
    "    encoded_data.to_excel(save_encoded_data_excel_path)\n",
    "    print(\"\\n- After processing: data.shape={}.\".format(encoded_data.shape))\n"
   ]
  },
  {
   "cell_type": "markdown",
   "metadata": {},
   "source": [
    "#### Main"
   ]
  },
  {
   "cell_type": "code",
   "execution_count": null,
   "metadata": {
    "scrolled": false
   },
   "outputs": [],
   "source": [
    "category_data_encoder_setting_dict=get_category_data_encoder_setting_dict()\n",
    "for task_name, category_data_encoder_setting in category_data_encoder_setting_dict.items():\n",
    "    print(\"\\n===== Encode category data for {}. ======\".format(task_name))\n",
    "    main_encode_category_data(category_data_encoder_setting)\n"
   ]
  },
  {
   "cell_type": "code",
   "execution_count": null,
   "metadata": {},
   "outputs": [],
   "source": []
  },
  {
   "cell_type": "markdown",
   "metadata": {},
   "source": [
    "### Task 2: After encoding the data, add subtypes columns for TCGA-IDH;\n",
    "- LGG, IDH mutant, 1p/19q codeleted:1\n",
    "- LGG, IDH mutant, 1p/19q non-codeleted:2\n",
    "- LGG, IDH wildtype: 3\n",
    "- GBM, IDH mutant: 4\n",
    "- GBM, IDH wildtype: 5"
   ]
  },
  {
   "cell_type": "code",
   "execution_count": null,
   "metadata": {},
   "outputs": [],
   "source": [
    "def caculate_tumor_subtype(data):\n",
    "    \"\"\"\n",
    "    Define the tumor type according to the different combinations of tumor grade, IDH mutant and 1p/19q codeleted status.\n",
    "    \"\"\"\n",
    "    \n",
    "    if data[\"is_GBM\"]==0 and data[\"is_IDH_mutant\"]==1 and data[\"is_1p19q_codeleted\"]==1:\n",
    "        tumor_subtype_description=\"LGG, IDH mutant, 1p/19q codeleted\"\n",
    "        tumor_subtype=1\n",
    "        \n",
    "    elif data[\"is_GBM\"]==0 and data[\"is_IDH_mutant\"]==1 and data[\"is_1p19q_codeleted\"]==0:\n",
    "        tumor_subtype_description=\"LGG, IDH mutant, 1p/19q non-codeleted\"\n",
    "        tumor_subtype=2\n",
    "        \n",
    "    elif data[\"is_GBM\"]==0 and data[\"is_IDH_mutant\"]==0:\n",
    "        tumor_subtype_description=\"LGG, IDH wildtype\"\n",
    "        tumor_subtype=3\n",
    "        \n",
    "    elif data[\"is_GBM\"]==1 and data[\"is_IDH_mutant\"]==1:\n",
    "        tumor_subtype_description=\"GBM, IDH mutant\"  \n",
    "        tumor_subtype=4\n",
    "        \n",
    "    elif data[\"is_GBM\"]==1 and data[\"is_IDH_mutant\"]==0:\n",
    "        tumor_subtype_description=\"GBM, IDH wildtype\"\n",
    "        tumor_subtype=5\n",
    "    \n",
    "    return tumor_subtype_description, tumor_subtype\n",
    "\n",
    "def get_tumor_subtype_description(data):\n",
    "    \"\"\"\n",
    "    Used to add new columns to describe the tumor_subtype by words;\n",
    "    \"\"\"\n",
    "    tumor_subtype_description, tumor_subtype=caculate_tumor_subtype(data)\n",
    "    \n",
    "    return tumor_subtype_description\n",
    "\n",
    "def get_tumor_subtype(data):\n",
    "    \"\"\"\n",
    "    Used to add new columns to describe the tumor_subtype by number in {1,2,3,4,5}.\n",
    "    \"\"\"\n",
    "    tumor_subtype_description, tumor_subtype=caculate_tumor_subtype(data)\n",
    "    \n",
    "    return tumor_subtype\n",
    "    \n",
    "    \n",
    "def add_tumor_subtype_columns(data_excel_path):\n",
    "    \n",
    "    #read data\n",
    "    gene_df=pd.read_excel(data_excel_path)\n",
    "    \n",
    "    print(\"\\n Before adding subtype columns.....\")\n",
    "    display(gene_df.head())\n",
    "    \n",
    "    #add a column to reclassify the tumor according to tumor grade, IDH mutant and 1p/19q codeletion status\n",
    "    gene_df[\"tumor_subtype_description\"]=gene_df.apply(get_tumor_subtype_description, axis=1)\n",
    "    gene_df[\"tumor_subtype\"]=gene_df.apply(get_tumor_subtype, axis=1)\n",
    "    \n",
    "    gene_df.to_excel(data_excel_path)\n",
    "    \n",
    "    print(\"\\n After adding subtype columns.....\")\n",
    "    display(gene_df.head())\n",
    "    \n",
    "\n"
   ]
  },
  {
   "cell_type": "markdown",
   "metadata": {},
   "source": [
    "#### Main"
   ]
  },
  {
   "cell_type": "code",
   "execution_count": null,
   "metadata": {},
   "outputs": [],
   "source": [
    "category_data_encoder_setting_dict=get_category_data_encoder_setting_dict()\n",
    "category_data_encoder_setting=category_data_encoder_setting_dict[\"encode_category_data_TCGA-IDH\"]\n",
    "encoded_data_excel_path=category_data_encoder_setting[\"save_encoded_data_excel_path\"]\n",
    "add_tumor_subtype_columns(encoded_data_excel_path)"
   ]
  },
  {
   "cell_type": "code",
   "execution_count": null,
   "metadata": {},
   "outputs": [],
   "source": []
  }
 ],
 "metadata": {
  "kernelspec": {
   "display_name": "Python 3",
   "language": "python",
   "name": "python3"
  },
  "language_info": {
   "codemirror_mode": {
    "name": "ipython",
    "version": 3
   },
   "file_extension": ".py",
   "mimetype": "text/x-python",
   "name": "python",
   "nbconvert_exporter": "python",
   "pygments_lexer": "ipython3",
   "version": "3.7.9"
  }
 },
 "nbformat": 4,
 "nbformat_minor": 4
}
