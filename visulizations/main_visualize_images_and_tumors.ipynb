{
 "cells": [
  {
   "cell_type": "markdown",
   "metadata": {},
   "source": [
    "### Visualize the MRI images and the segmentation results of the tumors.\n",
    "- MRI images: t1, t1Gd, t2，flair.\n",
    "- Tumor segmentations: \n",
    "                {\"necrotic (NCR)\": 1, \n",
    "                \"peritumoral edematous/invaded tissue (ED)\": 2,\n",
    "                \"enhancing tumor(ET)\": 4,\n",
    "                \"tumor core (TC)\": [1,4],\n",
    "                \"wholeTumor\": [1, 2, 4]}"
   ]
  },
  {
   "cell_type": "code",
   "execution_count": null,
   "metadata": {},
   "outputs": [],
   "source": [
    "import os\n",
    "import numpy as np\n",
    "import sys\n",
    "import gc\n",
    "import matplotlib.pyplot as plt\n",
    "\n",
    "import nibabel as nib\n",
    "\n",
    "sys.path.append(\"../\")\n",
    "from utils.myUtils import traversalDir_FirstDir, mkdir\n",
    "from mySettings import get_image_visualization_setting_dict\n",
    "\n"
   ]
  },
  {
   "cell_type": "code",
   "execution_count": null,
   "metadata": {},
   "outputs": [],
   "source": [
    "def get_maximum_segmentation_slice_index(image_array):\n",
    "    shape=image_array.shape\n",
    "    count_non_zero_list=[]\n",
    "    for index in range(shape[2]):\n",
    "        image_slice=image_array[:, :, index]\n",
    "        count_non_zero=np.count_nonzero(image_slice)\n",
    "        count_non_zero_list.append(count_non_zero)\n",
    "   \n",
    "    max_nonzero_count=max(count_non_zero_list)\n",
    "    index=count_non_zero_list.index(max_nonzero_count)\n",
    "    print(\"max_nonzero_count={}, index={}\".format(max_nonzero_count, index))\n",
    "    \n",
    "    return index\n",
    "\n",
    "def show_one_patient(image_base_folder, segmentation_folder, patient_id, modality_list, save_visualization_folder):\n",
    "\n",
    "    sub_figure_number=len(modality_list) #len(modality_list)+1\n",
    "    plt.figure(figsize=(5*sub_figure_number,5))\n",
    "    \n",
    "    # get the slice index with maximum non-zero pixels.\n",
    "    segmentation_path=os.path.join(segmentation_folder, patient_id+\".nii.gz\")\n",
    "    segmentation_array=nib.load(segmentation_path).get_fdata()\n",
    "    index=get_maximum_segmentation_slice_index(segmentation_array)\n",
    "    \n",
    "    # plot MRI images with different modalities       \n",
    "    for i, modality in enumerate(modality_list):\n",
    "        image_path=os.path.join(image_base_folder, patient_id, patient_id+\"_\"+ modality+\".nii.gz\")\n",
    "        image_array=nib.load(image_path).get_fdata()\n",
    "        image_slice=image_array[:, :, index].T\n",
    "        sub_fig=plt.subplot(1, sub_figure_number, i+1)\n",
    "        sub_fig.set_title(patient_id+\" (\"+modality+\")\", fontsize=18)\n",
    "        plt.axis('off')\n",
    "        plt.imshow(image_slice, cmap='gray')\n",
    "\n",
    "\n",
    "#     # plot segmentation\n",
    "#     segmentation_slice=segmentation_array[:, :, index].T\n",
    "#     sub_fig=plt.subplot(1, sub_figure_number, sub_figure_number)\n",
    "#     sub_fig.set_title(\"segmentation\", fontsize=18)\n",
    "#     plt.axis('off')\n",
    "#     plt.imshow(image_slice, aspect='auto',cmap='gray')\n",
    "#     plt.imshow(segmentation_slice, alpha=0.8)\n",
    "    \n",
    "    #save visualization results.\n",
    "    plt.subplots_adjust(left=0.03, bottom=0.03, right=0.97, top=0.9,  wspace=0.03, hspace=0)\n",
    "    save_path= os.path.join(save_visualization_folder, patient_id+\"_slice_\"+str(index)+\".jpeg\")\n",
    "    plt.savefig(save_path)\n",
    "    plt.show()\n",
    "    \n",
    "    # Clear the current axes.\n",
    "    plt.cla() \n",
    "    # Clear the current figure.\n",
    "    plt.clf() \n",
    "    # Closes all the figure windows.\n",
    "    plt.close('all')\n",
    "    gc.collect()        \n",
    "    \n",
    "def visualize_image_and_segmentations(image_base_folder, segmentation_folder, modality_list, save_visualization_folder):\n",
    "    \n",
    "    patient_id_list=traversalDir_FirstDir(image_base_folder)\n",
    "    for patient_id in patient_id_list:\n",
    "        show_one_patient(image_base_folder, segmentation_folder, patient_id, modality_list, save_visualization_folder)\n",
    "        \n",
    "    print(\"Finish saving visualization results in {}...\".format(save_visualization_folder))"
   ]
  },
  {
   "cell_type": "code",
   "execution_count": null,
   "metadata": {
    "scrolled": false
   },
   "outputs": [],
   "source": [
    "image_visualization_setting_dict=get_image_visualization_setting_dict()\n",
    "for setting_name, image_visualization_setting in image_visualization_setting_dict.items():\n",
    "    image_base_folder=image_visualization_setting[\"image_folder\"]\n",
    "    segmentation_folder=image_visualization_setting[\"segmentation_folder\"]\n",
    "    modality_list=image_visualization_setting[\"modality_list\"]\n",
    "    save_visualization_folder=image_visualization_setting[\"save_visualization_folder\"]\n",
    "    mkdir(save_visualization_folder)\n",
    "    visualize_image_and_segmentations(image_base_folder, segmentation_folder, modality_list, save_visualization_folder)"
   ]
  }
 ],
 "metadata": {
  "kernelspec": {
   "display_name": "Python 3",
   "language": "python",
   "name": "python3"
  },
  "language_info": {
   "codemirror_mode": {
    "name": "ipython",
    "version": 3
   },
   "file_extension": ".py",
   "mimetype": "text/x-python",
   "name": "python",
   "nbconvert_exporter": "python",
   "pygments_lexer": "ipython3",
   "version": "3.7.9"
  }
 },
 "nbformat": 4,
 "nbformat_minor": 4
}
