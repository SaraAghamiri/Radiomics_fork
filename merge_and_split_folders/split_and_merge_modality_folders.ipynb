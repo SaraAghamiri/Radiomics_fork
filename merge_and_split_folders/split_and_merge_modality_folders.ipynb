{
 "cells": [
  {
   "cell_type": "markdown",
   "metadata": {},
   "source": [
    "### Split and merge different MRI image modalities.\n",
    "\n",
    "\n",
    "**Split:**\n",
    "- Original folder: t1, t1Gd, t2, flair, segmentation;\n",
    "- After split(example 1): t1, t1Gd, t2 and flair in one folder; segmentation in another folder;\n",
    "- After split(example 2): t1, t1Gd, t2, flair and segmentation each one in a folder, in total 5 folders;\n"
   ]
  },
  {
   "cell_type": "code",
   "execution_count": null,
   "metadata": {},
   "outputs": [],
   "source": [
    "import os\n",
    "import shutil\n",
    "from mySettings import get_split_folder_setting_dict\n",
    "\n",
    "import sys\n",
    "sys.path.append(\"E://2020_MRI_Work/HarmonizationProject\")\n",
    "from utils.myUtils import traversalDir_FirstDir, mkdir, get_filenames"
   ]
  },
  {
   "cell_type": "code",
   "execution_count": null,
   "metadata": {},
   "outputs": [],
   "source": [
    "def main_split_different_modalities(split_folder_setting):\n",
    "    image_basepath=split_folder_setting[\"image_folder\"]\n",
    "    save_basepath=split_folder_setting[\"save_basepath\"]\n",
    "    split_criterion_dict=split_folder_setting[\"split_criterion\"]\n",
    "    used_to_find_basename=split_folder_setting[\"used_to_find_basename\"]\n",
    "    total_number_of_modalities=split_folder_setting[\"total_number_of_modalities\"]\n",
    "    \n",
    "    patient_id_list=traversalDir_FirstDir(image_basepath)\n",
    "    num_of_patients=len(patient_id_list)\n",
    "    i=0\n",
    "    for patient_id in patient_id_list:\n",
    "        i=i+1\n",
    "        print(\"\\n-{}/{}:{}\".format(i, num_of_patients, patient_id))\n",
    "        original_patient_folder=os.path.join(image_basepath, patient_id)\n",
    "        \n",
    "        original_patient_files=get_filenames(original_patient_folder)\n",
    "        if total_number_of_modalities==len(original_patient_files):\n",
    "            #find the patient basename for this patient\n",
    "            for orginal_patient_file in original_patient_files:\n",
    "                if orginal_patient_file.endswith(\"_\"+used_to_find_basename+\".nii.gz\"):\n",
    "                    patient_basename=(os.path.basename(orginal_patient_file)).replace(\"_\"+used_to_find_basename+\".nii.gz\", \"\")\n",
    "\n",
    "            #split the folder for this patient\n",
    "            for split_name, split_criterion in split_criterion_dict.items():\n",
    "                if split_name==\"segmentation\" and len(split_criterion)==1:\n",
    "                    modality=split_criterion[0]\n",
    "                    patient_split_folder=os.path.join(save_basepath, split_name)\n",
    "                    mkdir(patient_split_folder)\n",
    "                    src_image_path=os.path.join(original_patient_folder, patient_basename+\"_\"+modality+\".nii.gz\")\n",
    "                    dest_image_path=os.path.join(patient_split_folder, patient_id+\".nii.gz\")\n",
    "                    shutil.copy(src_image_path, dest_image_path) \n",
    "                else:\n",
    "                    patient_split_folder=os.path.join(save_basepath, split_name, patient_id)\n",
    "                    mkdir(patient_split_folder)\n",
    "                    for modality in split_criterion:\n",
    "                        src_image_path=os.path.join(original_patient_folder, patient_basename+\"_\"+modality+\".nii.gz\")\n",
    "                        dest_image_path=os.path.join(patient_split_folder, patient_id+\"_\"+modality+\".nii.gz\")\n",
    "                        shutil.copy(src_image_path, dest_image_path) \n",
    "        else:\n",
    "            print(\"\\n-Only {} modalities for patient {}. \\n{}\".format(len(original_patient_files), patient_id, original_patient_files))\n",
    "                \n",
    "    \n",
    "            "
   ]
  },
  {
   "cell_type": "markdown",
   "metadata": {},
   "source": [
    "### Main: split different image modalities and the segmentation mask into different folders."
   ]
  },
  {
   "cell_type": "code",
   "execution_count": null,
   "metadata": {},
   "outputs": [],
   "source": [
    "split_folder_setting_dict=get_split_folder_setting_dict()\n",
    "\n",
    "for setting_name, split_folder_setting in split_folder_setting_dict.items():\n",
    "    print(\"\\n===== Split folders for {} .====\".format(setting_name))\n",
    "    main_split_different_modalities(split_folder_setting)\n",
    "    print(\"Finish splitting folders for {}.\".format(setting_name))"
   ]
  },
  {
   "cell_type": "code",
   "execution_count": null,
   "metadata": {},
   "outputs": [],
   "source": []
  },
  {
   "cell_type": "code",
   "execution_count": null,
   "metadata": {},
   "outputs": [],
   "source": []
  }
 ],
 "metadata": {
  "kernelspec": {
   "display_name": "Python 3",
   "language": "python",
   "name": "python3"
  },
  "language_info": {
   "codemirror_mode": {
    "name": "ipython",
    "version": 3
   },
   "file_extension": ".py",
   "mimetype": "text/x-python",
   "name": "python",
   "nbconvert_exporter": "python",
   "pygments_lexer": "ipython3",
   "version": "3.7.9"
  }
 },
 "nbformat": 4,
 "nbformat_minor": 4
}
