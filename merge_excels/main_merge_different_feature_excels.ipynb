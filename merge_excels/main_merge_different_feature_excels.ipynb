{
 "cells": [
  {
   "cell_type": "markdown",
   "metadata": {},
   "source": [
    "### Connect different excel files into one file.\n",
    "\n",
    "For example, we connect the extracted features, the MGMT label and the image acquisition setting labels from different excels into one final excel."
   ]
  },
  {
   "cell_type": "code",
   "execution_count": null,
   "metadata": {},
   "outputs": [],
   "source": [
    "import os\n",
    "import pandas as pd\n",
    "\n",
    "from mySettings import get_feature_merge_settings_dict\n"
   ]
  },
  {
   "cell_type": "code",
   "execution_count": null,
   "metadata": {},
   "outputs": [],
   "source": [
    "def connect_excels(excel_dict, save_excel_path, index_column_name, axis, join):\n",
    "    \"\"\"\n",
    "    Connect different excels;\n",
    "    \n",
    "    Inputs:\n",
    "    axis=1: connect different columns. note that the excel dataframes have the same index.\n",
    "    axis=0: connect different rows.\n",
    "    \n",
    "    join: {\"inner\", \"outer\"}, \n",
    "          How to handle indexes on other axis (or axes).\n",
    "    \"\"\"\n",
    "    \n",
    "    dataframe_list=[]\n",
    "    for key, excel_path in excel_dict.items():\n",
    "        if excel_path is None:\n",
    "            print(\"\\n - {}: None.\".format(key))\n",
    "        else:\n",
    "            data=pd.read_excel(excel_path, index_col=0)\n",
    "            \n",
    "            #assert the index is the same with the one we used for merging.\n",
    "            assert data.index.name==index_column_name\n",
    "            \n",
    "            #add the data into the dataframe list.\n",
    "            dataframe_list.append(data)\n",
    "            print(\"\\n - {}: data.shape={}\".format(key, data.shape))\n",
    "            \n",
    "        \n",
    "    #merge data and save the results in the excel.\n",
    "    ArrangedData=pd.concat(dataframe_list, axis=axis, join=join)  \n",
    "    ArrangedData.to_excel(save_excel_path)\n",
    "    print(\"\\nAfter merging all the excel file, data.shape={}.\".format(ArrangedData.shape))\n",
    "    \n",
    "    return ArrangedData"
   ]
  },
  {
   "cell_type": "markdown",
   "metadata": {},
   "source": [
    "#### Main"
   ]
  },
  {
   "cell_type": "code",
   "execution_count": null,
   "metadata": {},
   "outputs": [],
   "source": [
    "feature_merge_settings_dict=get_feature_merge_settings_dict()\n",
    "for setting_name, feature_merge_settings in feature_merge_settings_dict.items():\n",
    "    print(\"\\n===== Merging features for {}. ======\".format(setting_name))\n",
    "    excel_dict=feature_merge_settings[\"excel_dict\"]\n",
    "    save_excel_path=feature_merge_settings[\"save_excel_path\"]\n",
    "    index_column_name=feature_merge_settings[\"index_column_name\"]\n",
    "    axis=feature_merge_settings[\"axis\"]\n",
    "    join=feature_merge_settings[\"join\"]\n",
    "    \n",
    "    #check whether the folder to save the excel exists.\n",
    "    folder=os.path.dirname(save_excel_path)\n",
    "    if not os.path.exists(folder):\n",
    "        os.makedirs(folder) \n",
    "        \n",
    "    connect_excels(excel_dict, save_excel_path, index_column_name, axis, join)"
   ]
  },
  {
   "cell_type": "code",
   "execution_count": null,
   "metadata": {},
   "outputs": [],
   "source": [
    " "
   ]
  },
  {
   "cell_type": "code",
   "execution_count": null,
   "metadata": {},
   "outputs": [],
   "source": []
  },
  {
   "cell_type": "code",
   "execution_count": null,
   "metadata": {},
   "outputs": [],
   "source": []
  }
 ],
 "metadata": {
  "kernelspec": {
   "display_name": "Python 3",
   "language": "python",
   "name": "python3"
  },
  "language_info": {
   "codemirror_mode": {
    "name": "ipython",
    "version": 3
   },
   "file_extension": ".py",
   "mimetype": "text/x-python",
   "name": "python",
   "nbconvert_exporter": "python",
   "pygments_lexer": "ipython3",
   "version": "3.7.9"
  }
 },
 "nbformat": 4,
 "nbformat_minor": 4
}
