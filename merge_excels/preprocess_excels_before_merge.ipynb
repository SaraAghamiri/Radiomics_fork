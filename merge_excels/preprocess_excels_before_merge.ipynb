{
 "cells": [
  {
   "cell_type": "markdown",
   "metadata": {},
   "source": [
    "### Task1- BraTS2021： convert the MGMT label .csv file to excel file;"
   ]
  },
  {
   "cell_type": "code",
   "execution_count": null,
   "metadata": {},
   "outputs": [],
   "source": [
    "import pandas as pd\n",
    "import os"
   ]
  },
  {
   "cell_type": "code",
   "execution_count": null,
   "metadata": {},
   "outputs": [],
   "source": [
    "def convert_from_csv_to_excel(csv_path, excel_path):\n",
    "    #check whether the folder to save the excel exists.\n",
    "    folder=os.path.dirname(excel_path)\n",
    "    if not os.path.exists(folder):\n",
    "        os.makedirs(folder) \n",
    "    \n",
    "    # resave csv file into excel file\n",
    "    data_df=pd.read_csv(csv_path)\n",
    "    data_df[\"patient_id\"]=data_df[[\"BraTS21ID\"]].apply(lambda x: \"BraTS2021_\"+ str(\"%05d\" % x[\"BraTS21ID\"]),axis=1)\n",
    "    data_df.set_index([\"patient_id\"], inplace=True)\n",
    "    data_df.to_excel(excel_path)\n",
    "    \n",
    "    return data_df"
   ]
  },
  {
   "cell_type": "code",
   "execution_count": null,
   "metadata": {},
   "outputs": [],
   "source": [
    "# Main\n",
    "basepath=\"G://PhDProjects/RadiogenomicsProjects/BraTS2021\"\n",
    "original_MGMT_csv_excel_path=basepath +\"/originalData/MGMT_classification/train_labels.csv\"\n",
    "save_MGMT_excel_path=basepath+\"/Features/MGMT_info/MGMT_info_train.xlsx\"\n",
    "\n",
    "convert_from_csv_to_excel(original_MGMT_csv_excel_path, save_MGMT_excel_path)"
   ]
  },
  {
   "cell_type": "code",
   "execution_count": null,
   "metadata": {},
   "outputs": [],
   "source": []
  },
  {
   "cell_type": "markdown",
   "metadata": {},
   "source": [
    "### Task2 - TCGA public features: convert the .csv file to .xlsx. "
   ]
  },
  {
   "cell_type": "code",
   "execution_count": null,
   "metadata": {},
   "outputs": [],
   "source": [
    "def convert_from_csv_to_excel(csv_path, excel_path):\n",
    "    #check whether the folder to save the excel exists.\n",
    "    folder=os.path.dirname(excel_path)\n",
    "    if not os.path.exists(folder):\n",
    "        os.makedirs(folder) \n",
    "    \n",
    "    # resave csv file into excel file\n",
    "    data_df=pd.read_csv(csv_path)\n",
    "    data_df.rename(columns={\"ID\": \"patient_id\"}, inplace=True)\n",
    "    data_df.set_index([\"patient_id\"], inplace=True)\n",
    "    data_df.to_excel(excel_path)\n",
    "    \n",
    "    return data_df"
   ]
  },
  {
   "cell_type": "code",
   "execution_count": null,
   "metadata": {
    "scrolled": false
   },
   "outputs": [],
   "source": [
    "# Main\n",
    "basepath=\"G://PhDProjects/RadiogenomicsProjects/GliomasSubtypes\"\n",
    "\n",
    "# TCGA, train, GBM\n",
    "original_MGMT_csv_excel_path=basepath +\"/originalData/TCGA/TCIA_Segmentation/TCGA/Pre-operative_TCGA_NIfTI_and_Segmentations/TCGA_GBM_radiomicFeatures.csv\"\n",
    "save_MGMT_excel_path=basepath+\"/Features/public_features/TCGA_GBM_radiomicFeatures_train.xlsx\"\n",
    "\n",
    "convert_from_csv_to_excel(original_MGMT_csv_excel_path, save_MGMT_excel_path)\n",
    "\n",
    "\n",
    "# TCGA, train, LGG\n",
    "basepath=\"G://PhDProjects/RadiogenomicsProjects/GliomasSubtypes\"\n",
    "original_MGMT_csv_excel_path=basepath +\"/originalData/TCGA/TCIA_Segmentation/TCGA/Pre-operative_TCGA_NIfTI_and_Segmentations/TCGA_LGG_radiomicFeatures.csv\"\n",
    "save_MGMT_excel_path=basepath+\"/Features/public_features/TCGA_LGG_radiomicFeatures_train.xlsx\"\n",
    "\n",
    "convert_from_csv_to_excel(original_MGMT_csv_excel_path, save_MGMT_excel_path)\n",
    "\n",
    "\n",
    "# TCGA, test, GBM\n",
    "original_MGMT_csv_excel_path=basepath +\"/originalData/TCGA/TCIA_Segmentation/TCGA/Pre-operative_TCGA_NIfTI_and_Segmentations_(BraTS2017TestingData)/TCGA_GBM_radiomicFeatures.csv\"\n",
    "save_MGMT_excel_path=basepath+\"/Features/public_features/TCGA_GBM_radiomicFeatures_test.xlsx\"\n",
    "\n",
    "convert_from_csv_to_excel(original_MGMT_csv_excel_path, save_MGMT_excel_path)\n",
    "\n",
    "\n",
    "# TCGA, test, LGG\n",
    "basepath=\"G://PhDProjects/RadiogenomicsProjects/GliomasSubtypes\"\n",
    "original_MGMT_csv_excel_path=basepath +\"/originalData/TCGA/TCIA_Segmentation/TCGA/Pre-operative_TCGA_NIfTI_and_Segmentations_(BraTS2017TestingData)/TCGA_LGG_radiomicFeatures.csv\"\n",
    "save_MGMT_excel_path=basepath+\"/Features/public_features/TCGA_LGG_radiomicFeatures_test.xlsx\"\n",
    "\n",
    "convert_from_csv_to_excel(original_MGMT_csv_excel_path, save_MGMT_excel_path)"
   ]
  },
  {
   "cell_type": "code",
   "execution_count": null,
   "metadata": {},
   "outputs": [],
   "source": []
  }
 ],
 "metadata": {
  "kernelspec": {
   "display_name": "Python 3",
   "language": "python",
   "name": "python3"
  },
  "language_info": {
   "codemirror_mode": {
    "name": "ipython",
    "version": 3
   },
   "file_extension": ".py",
   "mimetype": "text/x-python",
   "name": "python",
   "nbconvert_exporter": "python",
   "pygments_lexer": "ipython3",
   "version": "3.7.9"
  }
 },
 "nbformat": 4,
 "nbformat_minor": 4
}
