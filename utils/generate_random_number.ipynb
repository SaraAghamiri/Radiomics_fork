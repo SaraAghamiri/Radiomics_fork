{
 "cells": [
  {
   "cell_type": "code",
   "execution_count": 1,
   "metadata": {},
   "outputs": [
    {
     "name": "stdout",
     "output_type": "stream",
     "text": [
      "[1140 3413 1152 2669 3934  830 4765 2397  198 3174 4166 4641 1799  257\n",
      "  410 2992 3555 4159 1585 2704 4475 1460 2680 3077 3494 4494 3911 3413\n",
      "   70  169 3605 1270 1700 3091 3257 1106 1754 2959  552 1547  403 1870\n",
      " 2065 3250 1031  245 4595 2284 4215  447]\n"
     ]
    }
   ],
   "source": [
    "\"\"\"\n",
    "Using random seed 2021 to randomly generate 50 random seeds.\n",
    "\"\"\"\n",
    "import numpy as np\n",
    "\n",
    "rng = np.random.RandomState(2021)\n",
    "random_integers=rng.randint(0, 5000, 50)\n",
    "\n",
    "print(random_integers)"
   ]
  },
  {
   "cell_type": "code",
   "execution_count": null,
   "metadata": {},
   "outputs": [],
   "source": []
  }
 ],
 "metadata": {
  "kernelspec": {
   "display_name": "Python 3",
   "language": "python",
   "name": "python3"
  },
  "language_info": {
   "codemirror_mode": {
    "name": "ipython",
    "version": 3
   },
   "file_extension": ".py",
   "mimetype": "text/x-python",
   "name": "python",
   "nbconvert_exporter": "python",
   "pygments_lexer": "ipython3",
   "version": "3.7.9"
  }
 },
 "nbformat": 4,
 "nbformat_minor": 4
}
